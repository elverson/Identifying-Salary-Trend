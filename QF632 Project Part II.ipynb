{
 "cells": [
  {
   "cell_type": "code",
   "execution_count": 1,
   "id": "66592eb6",
   "metadata": {},
   "outputs": [],
   "source": [
    "import pandas as pd\n",
    "import matplotlib.pyplot as plt\n",
    "pd.set_option('display.max_columns', None)\n",
    "%matplotlib qt"
   ]
  },
  {
   "cell_type": "code",
   "execution_count": 2,
   "id": "ce4d2bc6",
   "metadata": {},
   "outputs": [],
   "source": [
    "import pandas as pd\n",
    "import matplotlib.pyplot as plt\n",
    "\n",
    "def rank_by_month_hire(df):\n",
    "    #START DATE\n",
    "    #EMPLOYER \n",
    "    values_to_filter = ['trader', 'quant']\n",
    "    df = df[df['JOB TITLE'].str.lower().str.contains('|'.join(values_to_filter))] \n",
    "#     year = ['2020','2021','2022','2019','2018']\n",
    "#     df = df[df['START DATE'].str.upper().str.contains('|'.join(year))]\n",
    "    df = df[['EMPLOYER','START DATE']]\n",
    "    df['START DATE'] = pd.to_datetime(df['START DATE']).dt.month\n",
    "    top_50 = top50companies(50)\n",
    "    df = filtered_dataframe(df,top_50)\n",
    "    # Group the dataframe by month and company, and count the occurrences\n",
    "    group_counts = df.groupby(['START DATE', 'EMPLOYER']).size().reset_index(name='Count')\n",
    "    # Plotting the bar chart\n",
    "    fig, ax = plt.subplots(figsize=(10, 6))\n",
    "    \n",
    "    for month in group_counts['START DATE'].unique():\n",
    "        month_data = group_counts[group_counts['START DATE'] == month]\n",
    "        month_name = pd.to_datetime(month_data['START DATE'], format='%m').dt.strftime('%B').iloc[0]\n",
    "        ax.bar(month_data['EMPLOYER'], month_data['Count'], label=month_name)\n",
    "    \n",
    "    ax.set_xlabel('Company',fontsize=15)\n",
    "    ax.set_ylabel('Count',fontsize=15)\n",
    "    ax.set_title('Count of Companies Hired by Month',fontsize=20)\n",
    "    ax.legend()\n",
    "    plt.xticks(rotation=45)\n",
    "    plt.tight_layout()\n",
    "    plt.show()  \n",
    "    "
   ]
  },
  {
   "cell_type": "code",
   "execution_count": 3,
   "id": "b7a3db64",
   "metadata": {},
   "outputs": [],
   "source": [
    "def data_scientist_trend(df):\n",
    "    #How has the trend of salary for data scientists been over the years?\n",
    "    #filter by datascientist\n",
    "    import numpy as np\n",
    "    df = df[df['JOB TITLE'].str.lower()=='data scientist']\n",
    "    #group by years median\n",
    "    median = df.groupby('YEAR') \\\n",
    "       .agg(count=('JOB TITLE', 'size'), BASE_SALARY=('BASE SALARY', 'median')) \\\n",
    "       .reset_index()\n",
    "    median = median.sort_values(by='YEAR',ascending=False)\n",
    "    \n",
    "    #charting\n",
    "    # Create the bar chart\n",
    "    fig, ax = plt.subplots()\n",
    "\n",
    "    # Set the positions and widths of the bars\n",
    "    bar_width = 0.55\n",
    "    index = np.arange(len(median['YEAR']))\n",
    "\n",
    "    # Define a list of colors for the bars\n",
    "    colors = ['blue', 'green', 'orange', 'purple','yellow','pink','brown','grey','red','black']  # Add more colors as needed\n",
    "\n",
    "    # Plot the count\n",
    "    # Create the grid \n",
    "    ax.grid(which=\"major\", axis='x', color='#DAD8D7', alpha=0.5, zorder=1)\n",
    "    ax.grid(which=\"major\", axis='y', color='#DAD8D7', alpha=0.5, zorder=1)\n",
    "    ax.bar(index, median['BASE_SALARY'], bar_width, color=colors, label='BASE_SALARY')\n",
    "\n",
    "    # Plot the base salary on a secondary y-axis\n",
    "    ax2 = ax.twinx()\n",
    "    ax2.plot(index, median['count'], color='red', marker='o', label='Count',linewidth=5)\n",
    "\n",
    "    # Set the x-axis labels and tick positions\n",
    "    ax.set_xlabel('Year',fontsize=20)\n",
    "    ax.set_xticks(index,fontsize=20)\n",
    "    ax.set_xticklabels(median['YEAR'],fontsize=20)\n",
    "\n",
    "    # Set the y-axis labels\n",
    "    ax.set_ylabel('Base Salary', color='blue',fontsize=20)\n",
    "    ax2.set_ylabel('Count', color='red',fontsize=20)\n",
    "\n",
    "    # Add a legend\n",
    "    lines, labels = ax.get_legend_handles_labels()\n",
    "    lines2, labels2 = ax2.get_legend_handles_labels()\n",
    "    ax2.legend(lines + lines2, labels + labels2, loc='upper left', bbox_to_anchor=(1.02, 1))\n",
    "    # Increase x-axis tick label size\n",
    "    ax.tick_params(axis='x', labelsize=12)\n",
    "    # Increase y-axis tick label size\n",
    "    ax.tick_params(axis='y', labelsize=12)\n",
    "    # Add labels on top of each bar\n",
    "    for i, v in enumerate(median['BASE_SALARY']):\n",
    "        ax.annotate(str(v), xy=(i, v), xytext=(0, 5), textcoords=\"offset points\",\n",
    "                    ha='center', va='bottom', fontweight='bold', fontsize=15)\n",
    "    # Set chart title and show the plot\n",
    "    plt.title('Trend of Salary for Data Scientists over the years',fontsize=20)\n",
    "    plt.tight_layout()\n",
    "    plt.show()\n"
   ]
  },
  {
   "cell_type": "code",
   "execution_count": 4,
   "id": "e0fbc88f",
   "metadata": {},
   "outputs": [],
   "source": [
    "def trader_vs_analyst_dataScientist(df):\n",
    "    import numpy as np\n",
    "    values_to_filter = ['trader', 'analyst', 'data scientist']\n",
    "    df_filtered = df[df['JOB TITLE'].str.lower().str.contains('|'.join(values_to_filter))]    \n",
    "    grouped_data = df_filtered.groupby(df_filtered['JOB TITLE'].str.lower(). \\\n",
    "                                   str.extract('(' + '|'.join(values_to_filter) + ')')[0]). \\\n",
    "    agg({'BASE SALARY': 'median', 'JOB TITLE': 'count' }).rename(columns={'JOB TITLE': 'count'}).reset_index()\n",
    "    \n",
    "    #charting\n",
    "    # Create the bar chart\n",
    "    fig, ax = plt.subplots()\n",
    "    # Create the grid \n",
    "    ax.grid(which=\"major\", axis='x', color='#DAD8D7', alpha=0.5, zorder=1)\n",
    "    ax.grid(which=\"major\", axis='y', color='#DAD8D7', alpha=0.5, zorder=1)    \n",
    "    # Set the positions and widths of the bars\n",
    "    bar_width = 0.55\n",
    "    index = np.arange(len(grouped_data['count']))\n",
    "    colors = ['blue', 'green', 'orange', 'purple','yellow','pink','brown','grey','red','black']\n",
    "    # Plot the count\n",
    "    ax.bar(index, grouped_data['BASE SALARY'], bar_width, color=colors, label='BASE SALARY')\n",
    "    # Add labels on top of each bar\n",
    "    for i, v in enumerate(grouped_data['BASE SALARY']):\n",
    "        ax.annotate(str(v), xy=(i, v), xytext=(0, 5), textcoords=\"offset points\",\n",
    "                    ha='center', va='bottom', fontweight='bold', fontsize=18)\n",
    "    # Plot the base salary on a secondary y-axis\n",
    "    ax2 = ax.twinx()\n",
    "    ax2.plot(index, grouped_data['count'], color='red', marker='o', label='count',linewidth=5)\n",
    "    # Set the x-axis labels and tick positions\n",
    "    ax.set_xlabel('BASE SALARY',fontsize=20)\n",
    "    ax.set_xticks(index,fontsize=20)\n",
    "    ax.set_xticklabels(grouped_data.iloc[:, 0], rotation=45, ha='right',fontsize=20)\n",
    "\n",
    "    # Set the y-axis labels\n",
    "    ax.set_ylabel('BASE SALARY', color='blue',fontsize=20)\n",
    "    ax2.set_ylabel('count', color='red',fontsize=20)\n",
    "    # Add a legend\n",
    "    lines, labels = ax.get_legend_handles_labels()\n",
    "    lines2, labels2 = ax2.get_legend_handles_labels()\n",
    "    ax2.legend(lines + lines2, labels + labels2, loc='upper left')\n",
    "    # Set chart title and show the plot\n",
    "    plt.title('Salary Comparison',fontsize=20)\n",
    "    plt.tight_layout()\n",
    "    plt.show()    \n",
    "    "
   ]
  },
  {
   "cell_type": "code",
   "execution_count": 5,
   "id": "35ee60b9",
   "metadata": {},
   "outputs": [],
   "source": [
    "def top50companies(rangee):\n",
    "    df = pd.read_csv('h1b_visa_applicants.csv',index_col=None)\n",
    "    df = df.iloc[0:rangee]\n",
    "    return df"
   ]
  },
  {
   "cell_type": "code",
   "execution_count": 6,
   "id": "0404842b",
   "metadata": {},
   "outputs": [],
   "source": [
    "def expensive_city(df):\n",
    "    #filter by year.\n",
    "    year = ['2020','2021','2022']\n",
    "    df = df[df['START DATE'].str.upper().str.contains('|'.join(year))]\n",
    "    #get top 10\n",
    "    #only USA\n",
    "    #location_to_filter = ['STATES']\n",
    "    #df = df[df['LOCATION'].str.upper().str.contains('|'.join(location_to_filter))]\n",
    "    df = df[df['CITY']!='ROME']\n",
    "    median = df.groupby('CITY') \\\n",
    "       .agg(count=('CITY', 'size'), BASE_SALARY=('BASE SALARY', 'median')) \\\n",
    "       .reset_index()\n",
    "    median = median.head(10)\n",
    "    median = median.sort_values(by='BASE_SALARY',ascending=False)\n",
    "    return median"
   ]
  },
  {
   "cell_type": "code",
   "execution_count": 7,
   "id": "b2b22d35",
   "metadata": {},
   "outputs": [],
   "source": [
    "def biggest_hirer_H1B(df):\n",
    "# Who is the biggest hirer of H1B visa\n",
    "# applicants?\n",
    "\n",
    "# Continuing Approval : The Continuing Approval data is the total approvals count for H1B petitions NOT filed as “New Employment” \n",
    "# or “New Concurrent Employment “ as indicated in the I-129 form Part 2 by selecting ‘b’, ‘c’, ‘e’, or ‘f’ for \n",
    "# Question 2 by employer as shown in below screenshot. It is usually for amendments, transfers with change of employers, extensions.\n",
    "\n",
    "\n",
    "# Initial Approval : The Initial Approval is the total approvals count for H1B petitions filed as “New Employment” \n",
    "# or “New Concurrent Employment “ as indicated in the I-129 form Part 2 by selecting ‘a’ and/or ‘d’ for \n",
    "# Question 2 by employer as shown in below screenshot.\n",
    "\n",
    "    df = pd.read_csv('h1b_visa_applicants.csv',index_col=None)\n",
    "    df = df.sort_values(by='Initial Approval',ascending=False)\n",
    "    df_initial = df[[\"Employer\",\"Initial Approval\"]]\n",
    "    df_initial = df_initial.head(10)\n",
    "    df_continual_initial = df\n",
    "    df_continual_initial['total_continual_initial'] = df_continual_initial['Initial Approval'] + df_continual_initial['Continuing Approval']\n",
    "    df_continual_initial = df_continual_initial[['Employer','total_continual_initial']]\n",
    "    df_continual_initial = df_continual_initial.head(10)\n",
    "    df_continual_initial = df_continual_initial.sort_values(by='total_continual_initial',ascending=False)\n",
    "    \n",
    "    #chart_biggest_hirer_H1B(df_continual_initial,'Employer','total_continual_initial')\n",
    "    return df_initial, df_continual_initial"
   ]
  },
  {
   "cell_type": "code",
   "execution_count": 8,
   "id": "2ed20546",
   "metadata": {},
   "outputs": [],
   "source": [
    "def chart_biggest_hirer_H1B(df, column1, column2):\n",
    "    fig, ax = plt.subplots(figsize=(10, 6))  # Adjust the figure size as needed\n",
    "    colors = ['blue', 'green', 'orange', 'purple', 'yellow', 'pink', 'brown', 'grey', 'red', 'black']\n",
    "    plt.bar(df[column1], df[column2], color=colors)\n",
    "    # Add labels on top of each bar\n",
    "    for i, v in enumerate(df[column2]):\n",
    "        ax.annotate(str(v), xy=(i, v), xytext=(0, 5), textcoords=\"offset points\",\n",
    "                    ha='center', va='bottom', fontweight='bold', fontsize=18)\n",
    "    plt.xlabel(column1, fontsize=12)\n",
    "    plt.ylabel(column2, fontsize=12)\n",
    "    plt.title('Biggest hirer of H1B visa', fontsize=20)\n",
    "    plt.xticks(rotation=45, fontsize=10)\n",
    "    plt.tight_layout()  # Adjust spacing between plot elements\n",
    "    plt.show()\n",
    "\n"
   ]
  },
  {
   "cell_type": "code",
   "execution_count": 9,
   "id": "58583cdd",
   "metadata": {},
   "outputs": [],
   "source": [
    "def chart_expensive_city(median, stats):\n",
    "    import numpy as np\n",
    "    fig, ax = plt.subplots(figsize=(12, 6))  # Adjust the figure size as needed\n",
    "    ax.grid(which=\"major\", axis='x', color='#DAD8D7', alpha=0.5, zorder=1)\n",
    "    ax.grid(which=\"major\", axis='y', color='#DAD8D7', alpha=0.5, zorder=1)\n",
    "\n",
    "    bar_width = 0.55\n",
    "    index = np.arange(len(median['CITY']))\n",
    "    colors = ['blue', 'green', 'orange', 'purple', 'yellow', 'pink', 'brown', 'grey', 'red', 'black']\n",
    "\n",
    "    ax.bar(index, median['BASE_SALARY'], bar_width, color=colors, label='Base Salary')\n",
    "\n",
    "    ax2 = ax.twinx()\n",
    "    ax2.plot(index, median['count'], color='red', marker='o', label='Count', linewidth=5)\n",
    "\n",
    "    ax.set_xlabel('City', fontsize=14)\n",
    "    ax.set_xticks(index)\n",
    "    ax.set_xticklabels(median['CITY'], rotation=45, fontsize=12)  # Rotate and adjust fontsize\n",
    "\n",
    "    ax.set_ylabel('Base Salary', color='blue', fontsize=14)\n",
    "    ax2.set_ylabel('Count', color='red', fontsize=14)\n",
    "\n",
    "    lines, labels = ax.get_legend_handles_labels()\n",
    "    lines2, labels2 = ax2.get_legend_handles_labels()\n",
    "    ax2.legend(lines + lines2, labels + labels2, loc='upper left', bbox_to_anchor=(1.02, 1))\n",
    "\n",
    "    for i, v in enumerate(median['BASE_SALARY']):\n",
    "        ax.annotate(str(v), xy=(i, v), xytext=(0, 5), textcoords=\"offset points\",\n",
    "                    ha='center', va='bottom', fontweight='bold', fontsize=12)\n",
    "\n",
    "    plt.title('Most Expensive City to Start a Business', fontsize=16)\n",
    "    plt.tight_layout()\n",
    "    plt.show()\n",
    "\n",
    "\n"
   ]
  },
  {
   "cell_type": "code",
   "execution_count": 10,
   "id": "3147f17c",
   "metadata": {},
   "outputs": [],
   "source": [
    "import random\n",
    "\n",
    "def chart_role_expensive(df, stats):\n",
    "    fig= plt.figure() \n",
    "    # Count the number of occurrences for each employer\n",
    "    df = df.reset_index()\n",
    "    \n",
    "    # Create a bar chart for each employer\n",
    "    employers = df['EMPLOYER'].unique()\n",
    "    random.shuffle(employers)  # Shuffle the employers to randomize the colors\n",
    "    \n",
    "    for i, employer in enumerate(employers):\n",
    "        # Filter the DataFrame for the current employer\n",
    "        employer_df = df[df['EMPLOYER'] == employer]\n",
    "        \n",
    "        # Generate a random color for the current bar\n",
    "        color = '#' + ''.join(random.choices('0123456789ABCDEF', k=6))\n",
    "        \n",
    "        # Plot the bar chart\n",
    "        plt.bar(employer_df['JOB TITLE'], employer_df['BASE SALARY'], label=employer, color=color)\n",
    "    \n",
    "    # Customize the chart\n",
    "    plt.xlabel('Job Title',fontsize=13)\n",
    "    plt.ylabel('Salary',fontsize=13)\n",
    "    plt.title(stats + ' Average Salary by Job Title',fontsize=20)\n",
    "    plt.xticks(rotation=90, fontsize=7)\n",
    "    plt.tight_layout()\n",
    "    # Create the legend\n",
    "    plt.legend(loc='upper center', bbox_to_anchor=(0.5, -2.3), ncol=6)\n",
    "    # Display the chart\n",
    "    plt.show()\n"
   ]
  },
  {
   "cell_type": "code",
   "execution_count": 11,
   "id": "ebd3cee5",
   "metadata": {},
   "outputs": [],
   "source": [
    "def role_expensive(df):\n",
    "    #filter by top50\n",
    "    top_50 = top50companies(50)\n",
    "    df = filtered_dataframe(df,top_50)\n",
    "    #how expensive is it to hire people by roles (software engineers, \n",
    "    #data scientists, quantitative researchers, portfolio managers etc).\n",
    "    #filter by job title\n",
    "    #Trader, Analyst, Quant, Trading, Research, Data, Scientist\n",
    "    #Is it better to be an analytical employee (e.g. data scientist/engineer/specialist) \n",
    "    #in a technology or investment management company?\n",
    "    \n",
    "    # Define the specific values to filter by\n",
    "    values_to_filter = ['trader', 'quant','pricing']\n",
    "    values_to_filterout = ['senior','manager','director','lead','head','managing'\n",
    "                           ,'president','vice','business','vp','evaluator','deal']\n",
    "    #location_to_filter = ['NEW-YORK']\n",
    "    year = ['2022','2021','2020']\n",
    "    # Convert the column values to lowercase and filter the DataFrame\n",
    "    df = df[df['JOB TITLE'].str.lower().str.contains('|'.join(values_to_filter))]\n",
    "    df = df[~df['JOB TITLE'].str.lower().str.contains('|'.join(values_to_filterout))]\n",
    "    #df = df[df['CITY'].str.upper().str.contains('|'.join(location_to_filter))]\n",
    "    df = df[df['START DATE'].str.upper().str.contains('|'.join(year))]\n",
    "    df['BASE SALARY'] = df['BASE SALARY']\n",
    "    #df = df.groupby(['JOB TITLE','EMPLOYER'])['BASE SALARY'].mean()\n",
    "    \n",
    "    median,mean,maximum,minimum = get_stats_double_segment('JOB TITLE','EMPLOYER',df,False)\n",
    "    return median,mean,maximum,minimum"
   ]
  },
  {
   "cell_type": "code",
   "execution_count": 12,
   "id": "a3d229c6",
   "metadata": {},
   "outputs": [],
   "source": [
    "def getCount(df):\n",
    "    print( df['BASE SALARY'].count())\n",
    "\n",
    "def get_unique(df):\n",
    "    unique_employer = df['EMPLOYER'].unique()\n",
    "    unique_job_title = df['JOB TITLE'].unique()\n",
    "    unique_location = df['LOCATION'].unique()\n",
    "    unique_year = df['YEAR'].unique()\n",
    "    return unique_employer, unique_job_title, unique_location, unique_year\n",
    "    \n",
    "def getinfo(df):\n",
    "    print(df.info())    \n",
    "\n",
    "def getNA(df):\n",
    "    print(df[df.isna().any(axis=1)])\n",
    "\n",
    "def drop_duplicates(df):\n",
    "    df = df.drop_duplicates()\n",
    "    return df\n",
    "\n",
    "def dropNA(df):\n",
    "    df = df[df['BASE SALARY'].notna()]\n",
    "    return df\n",
    "\n",
    "def filtered_dataframe(df1,df2):\n",
    "    df1 = df1[df1['EMPLOYER'].isin(df2['Employer'])]\n",
    "    return df1"
   ]
  },
  {
   "cell_type": "code",
   "execution_count": 13,
   "id": "6c041d65",
   "metadata": {},
   "outputs": [],
   "source": [
    "def get_stats_segment_salary(segment,df,lineup):\n",
    "    #based on job title of a company\n",
    "    median = df.groupby(segment)['BASE SALARY'].median()\n",
    "    mean = df.groupby(segment)['BASE SALARY'].mean()\n",
    "    maximum = df.groupby(segment)['BASE SALARY'].max()\n",
    "    minimum = df.groupby(segment)['BASE SALARY'].min()\n",
    "    std = df.groupby(segment)['BASE SALARY'].std()    \n",
    "    median = median.sort_values(ascending=lineup)\n",
    "    mean = mean.sort_values(ascending=lineup)\n",
    "    maximum = maximum.sort_values(ascending=lineup)\n",
    "    minimum = minimum.sort_values(ascending=lineup)\n",
    "    std = std.sort_values(ascending=lineup)\n",
    "    return median,mean,maximum,minimum"
   ]
  },
  {
   "cell_type": "code",
   "execution_count": 14,
   "id": "e94246b1",
   "metadata": {},
   "outputs": [],
   "source": [
    "def get_stats_single_segment(segment1,df,lineup):\n",
    "    median = df.groupby([segment1])['BASE SALARY'].median()\n",
    "    mean = df.groupby([segment1])['BASE SALARY'].mean()\n",
    "    maximum = df.groupby([segment1])['BASE SALARY'].max()\n",
    "    minimum = df.groupby([segment1])['BASE SALARY'].min()\n",
    "    std = df.groupby([segment1])['BASE SALARY'].std()    \n",
    "    median = median.sort_values(ascending=lineup)\n",
    "    mean = mean.sort_values(ascending=lineup)\n",
    "    maximum = maximum.sort_values(ascending=lineup)\n",
    "    minimum = minimum.sort_values(ascending=lineup)\n",
    "    std = std.sort_values(ascending=lineup)\n",
    "    return median,mean,maximum,minimum"
   ]
  },
  {
   "cell_type": "code",
   "execution_count": 15,
   "id": "928fe465",
   "metadata": {},
   "outputs": [],
   "source": [
    "def get_stats_double_segment(segment1,segment2,df,lineup):\n",
    "    median = df.groupby([segment1,segment2])['BASE SALARY'].median()\n",
    "    mean = df.groupby([segment1,segment2])['BASE SALARY'].mean()\n",
    "    maximum = df.groupby([segment1,segment2])['BASE SALARY'].max()\n",
    "    minimum = df.groupby([segment1,segment2])['BASE SALARY'].min()\n",
    "    std = df.groupby([segment1,segment2])['BASE SALARY'].std()    \n",
    "    median = median.sort_values(ascending=lineup)\n",
    "    mean = mean.sort_values(ascending=lineup)\n",
    "    maximum = maximum.sort_values(ascending=lineup)\n",
    "    minimum = minimum.sort_values(ascending=lineup)\n",
    "    std = std.sort_values(ascending=lineup)\n",
    "    return median,mean,maximum,minimum"
   ]
  },
  {
   "cell_type": "code",
   "execution_count": 16,
   "id": "940c6214",
   "metadata": {},
   "outputs": [],
   "source": [
    "def get_stats_tripple_segment(segment1,segment2,segment3,df,lineup):\n",
    "    median = df.groupby([segment1,segment2,segment3])['BASE SALARY'].median()\n",
    "    mean = df.groupby([segment1,segment2,segment3])['BASE SALARY'].mean()\n",
    "    maximum = df.groupby([segment1,segment2,segment3])['BASE SALARY'].max()\n",
    "    minimum = df.groupby([segment1,segment2,segment3])['BASE SALARY'].min()\n",
    "    std = df.groupby([segment1,segment2,segment3])['BASE SALARY'].std()    \n",
    "    print(median,mean,maximum,minimum,std)\n",
    "    return median,mean,maximum,minimum"
   ]
  },
  {
   "cell_type": "code",
   "execution_count": 17,
   "id": "3e4134b3",
   "metadata": {},
   "outputs": [],
   "source": [
    "#main\n",
    "df = pd.read_csv('merged.csv',index_col=0)\n",
    "df = drop_duplicates(df)"
   ]
  },
  {
   "cell_type": "code",
   "execution_count": 18,
   "id": "8ee82b85",
   "metadata": {},
   "outputs": [],
   "source": [
    "median_role,mean_role,maximum_role,minimum_role = role_expensive(df)"
   ]
  },
  {
   "cell_type": "markdown",
   "id": "b0c0909f",
   "metadata": {},
   "source": [
    "## how expensive is it to hire people by roles?\n",
    "## Is it better to be an analytical employee ?"
   ]
  },
  {
   "cell_type": "code",
   "execution_count": 19,
   "id": "479a0ec6",
   "metadata": {},
   "outputs": [],
   "source": [
    "chart_role_expensive(median_role,'median')"
   ]
  },
  {
   "cell_type": "markdown",
   "id": "603ca4bd",
   "metadata": {},
   "source": [
    "## Which is the most expensive city in the USA to build a startup? "
   ]
  },
  {
   "cell_type": "code",
   "execution_count": 20,
   "id": "1c301a56",
   "metadata": {},
   "outputs": [],
   "source": [
    "median_city = expensive_city(df)"
   ]
  },
  {
   "cell_type": "code",
   "execution_count": 21,
   "id": "c1710901",
   "metadata": {},
   "outputs": [],
   "source": [
    "chart_expensive_city(median_city,'median')"
   ]
  },
  {
   "cell_type": "markdown",
   "id": "0ece45ba",
   "metadata": {},
   "source": [
    "## Who is the biggest hirer of H1B visa applicants?"
   ]
  },
  {
   "cell_type": "code",
   "execution_count": 22,
   "id": "23e8c753",
   "metadata": {},
   "outputs": [],
   "source": [
    "df_initial, df_continual_initial = biggest_hirer_H1B(df)"
   ]
  },
  {
   "cell_type": "code",
   "execution_count": 23,
   "id": "fa6f2898",
   "metadata": {},
   "outputs": [],
   "source": [
    "chart_biggest_hirer_H1B(df_initial,'Employer','Initial Approval')"
   ]
  },
  {
   "cell_type": "code",
   "execution_count": 24,
   "id": "e59570b8",
   "metadata": {},
   "outputs": [],
   "source": [
    "chart_biggest_hirer_H1B(df_continual_initial,'Employer','total_continual_initial')"
   ]
  },
  {
   "cell_type": "markdown",
   "id": "8d1833ff",
   "metadata": {},
   "source": [
    "## Trader, Data Scientiest, Analyst Salary Compare"
   ]
  },
  {
   "cell_type": "code",
   "execution_count": 25,
   "id": "ae98c47d",
   "metadata": {},
   "outputs": [],
   "source": [
    "trader_vs_analyst_dataScientist(df)"
   ]
  },
  {
   "cell_type": "markdown",
   "id": "3f094f52",
   "metadata": {},
   "source": [
    "## Which Month has the highest Hire"
   ]
  },
  {
   "cell_type": "code",
   "execution_count": 26,
   "id": "3b755579",
   "metadata": {},
   "outputs": [],
   "source": [
    "rank_by_month_hire(df)"
   ]
  },
  {
   "cell_type": "markdown",
   "id": "4840d904",
   "metadata": {},
   "source": [
    "## How has the trend of salary for data scientists been over the years"
   ]
  },
  {
   "cell_type": "code",
   "execution_count": 27,
   "id": "bdb747a9",
   "metadata": {
    "scrolled": true
   },
   "outputs": [],
   "source": [
    "data_scientist_trend(df)"
   ]
  }
 ],
 "metadata": {
  "kernelspec": {
   "display_name": "Python 3 (ipykernel)",
   "language": "python",
   "name": "python3"
  },
  "language_info": {
   "codemirror_mode": {
    "name": "ipython",
    "version": 3
   },
   "file_extension": ".py",
   "mimetype": "text/x-python",
   "name": "python",
   "nbconvert_exporter": "python",
   "pygments_lexer": "ipython3",
   "version": "3.9.12"
  }
 },
 "nbformat": 4,
 "nbformat_minor": 5
}
